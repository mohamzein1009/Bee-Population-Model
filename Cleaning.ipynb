{
 "cells": [
  {
   "cell_type": "code",
   "execution_count": 1,
   "id": "9529d12a",
   "metadata": {
    "ExecuteTime": {
     "end_time": "2023-11-18T07:46:45.404219Z",
     "start_time": "2023-11-18T07:46:43.154297Z"
    }
   },
   "outputs": [],
   "source": [
    "import pandas as pd\n",
    "import numpy as np\n",
    "import datetime as dt\n",
    "import itertools\n",
    "import pyproj\n",
    "from convertbng.util import convert_bng, convert_lonlat\n",
    "import matplotlib.pyplot as plt\n",
    "import ipdb"
   ]
  },
  {
   "cell_type": "markdown",
   "id": "3cfa44f8",
   "metadata": {},
   "source": [
    "# InitialData"
   ]
  },
  {
   "cell_type": "code",
   "execution_count": 2,
   "id": "0d2cda49",
   "metadata": {
    "ExecuteTime": {
     "end_time": "2023-11-18T07:46:47.694252Z",
     "start_time": "2023-11-18T07:46:45.406214Z"
    }
   },
   "outputs": [
    {
     "name": "stderr",
     "output_type": "stream",
     "text": [
      "C:\\Users\\moham\\AppData\\Local\\Temp/ipykernel_7848/2863187422.py:3: DtypeWarning: Columns (0) have mixed types. Specify dtype option on import or set low_memory=False.\n",
      "  post = pd.read_csv('Extra Data/open_postcode_elevation.csv', header=None)\n"
     ]
    }
   ],
   "source": [
    "#raw data\n",
    "\n",
    "post = pd.read_csv('Extra Data/open_postcode_elevation.csv', header=None)\n",
    "orch = pd.read_csv('Extra Data/Traditional_Orchards_HAP.csv')\n",
    "\n",
    "bees = pd.read_csv('Final Data/coords_species.csv') \n",
    "bees = bees.rename(columns = {'Lat':'lat', 'Long':'lon'})\n",
    "\n",
    "shortbees = pd.read_csv('Final Data/shortbees.csv')\n",
    "shortbees = shortbees.rename(columns = {'Lat':'lat', 'Long':'lon'})"
   ]
  },
  {
   "cell_type": "code",
   "execution_count": 3,
   "id": "b2a2ecc3",
   "metadata": {
    "ExecuteTime": {
     "end_time": "2023-11-18T07:47:10.513585Z",
     "start_time": "2023-11-18T07:47:10.478946Z"
    }
   },
   "outputs": [
    {
     "data": {
      "text/html": [
       "<div>\n",
       "<style scoped>\n",
       "    .dataframe tbody tr th:only-of-type {\n",
       "        vertical-align: middle;\n",
       "    }\n",
       "\n",
       "    .dataframe tbody tr th {\n",
       "        vertical-align: top;\n",
       "    }\n",
       "\n",
       "    .dataframe thead th {\n",
       "        text-align: right;\n",
       "    }\n",
       "</style>\n",
       "<table border=\"1\" class=\"dataframe\">\n",
       "  <thead>\n",
       "    <tr style=\"text-align: right;\">\n",
       "      <th></th>\n",
       "      <th>lat</th>\n",
       "      <th>lon</th>\n",
       "      <th>Species</th>\n",
       "      <th>Present</th>\n",
       "      <th>Total</th>\n",
       "    </tr>\n",
       "  </thead>\n",
       "  <tbody>\n",
       "    <tr>\n",
       "      <th>0</th>\n",
       "      <td>53.95</td>\n",
       "      <td>-1.0860</td>\n",
       "      <td>Honeybee</td>\n",
       "      <td>1</td>\n",
       "      <td>1887</td>\n",
       "    </tr>\n",
       "    <tr>\n",
       "      <th>1</th>\n",
       "      <td>50.96</td>\n",
       "      <td>-1.9200</td>\n",
       "      <td>Red-tailed Bumblebee</td>\n",
       "      <td>1</td>\n",
       "      <td>1442</td>\n",
       "    </tr>\n",
       "    <tr>\n",
       "      <th>2</th>\n",
       "      <td>51.04</td>\n",
       "      <td>-2.6670</td>\n",
       "      <td>Honeybee</td>\n",
       "      <td>1</td>\n",
       "      <td>1399</td>\n",
       "    </tr>\n",
       "    <tr>\n",
       "      <th>3</th>\n",
       "      <td>51.65</td>\n",
       "      <td>-1.8680</td>\n",
       "      <td>Common Carder</td>\n",
       "      <td>1</td>\n",
       "      <td>1294</td>\n",
       "    </tr>\n",
       "    <tr>\n",
       "      <th>4</th>\n",
       "      <td>51.49</td>\n",
       "      <td>0.2297</td>\n",
       "      <td>Honeybee</td>\n",
       "      <td>1</td>\n",
       "      <td>1281</td>\n",
       "    </tr>\n",
       "    <tr>\n",
       "      <th>...</th>\n",
       "      <td>...</td>\n",
       "      <td>...</td>\n",
       "      <td>...</td>\n",
       "      <td>...</td>\n",
       "      <td>...</td>\n",
       "    </tr>\n",
       "    <tr>\n",
       "      <th>12155</th>\n",
       "      <td>59.30</td>\n",
       "      <td>-2.9680</td>\n",
       "      <td>Honeybee</td>\n",
       "      <td>0</td>\n",
       "      <td>0</td>\n",
       "    </tr>\n",
       "    <tr>\n",
       "      <th>12156</th>\n",
       "      <td>59.30</td>\n",
       "      <td>-2.9680</td>\n",
       "      <td>Indet. Bee</td>\n",
       "      <td>0</td>\n",
       "      <td>0</td>\n",
       "    </tr>\n",
       "    <tr>\n",
       "      <th>12157</th>\n",
       "      <td>59.30</td>\n",
       "      <td>-2.9680</td>\n",
       "      <td>Red-tailed Bumblebee</td>\n",
       "      <td>0</td>\n",
       "      <td>0</td>\n",
       "    </tr>\n",
       "    <tr>\n",
       "      <th>12158</th>\n",
       "      <td>59.30</td>\n",
       "      <td>-2.9680</td>\n",
       "      <td>Tree Bumblebee</td>\n",
       "      <td>0</td>\n",
       "      <td>0</td>\n",
       "    </tr>\n",
       "    <tr>\n",
       "      <th>12159</th>\n",
       "      <td>59.30</td>\n",
       "      <td>-2.9680</td>\n",
       "      <td>White/Buff-tailed Bumblebee workers</td>\n",
       "      <td>0</td>\n",
       "      <td>0</td>\n",
       "    </tr>\n",
       "  </tbody>\n",
       "</table>\n",
       "<p>12160 rows × 5 columns</p>\n",
       "</div>"
      ],
      "text/plain": [
       "         lat     lon                              Species  Present  Total\n",
       "0      53.95 -1.0860                             Honeybee        1   1887\n",
       "1      50.96 -1.9200                 Red-tailed Bumblebee        1   1442\n",
       "2      51.04 -2.6670                             Honeybee        1   1399\n",
       "3      51.65 -1.8680                        Common Carder        1   1294\n",
       "4      51.49  0.2297                             Honeybee        1   1281\n",
       "...      ...     ...                                  ...      ...    ...\n",
       "12155  59.30 -2.9680                             Honeybee        0      0\n",
       "12156  59.30 -2.9680                           Indet. Bee        0      0\n",
       "12157  59.30 -2.9680                 Red-tailed Bumblebee        0      0\n",
       "12158  59.30 -2.9680                       Tree Bumblebee        0      0\n",
       "12159  59.30 -2.9680  White/Buff-tailed Bumblebee workers        0      0\n",
       "\n",
       "[12160 rows x 5 columns]"
      ]
     },
     "execution_count": 3,
     "metadata": {},
     "output_type": "execute_result"
    }
   ],
   "source": [
    "shortbees"
   ]
  },
  {
   "cell_type": "code",
   "execution_count": 5,
   "id": "45f724f6",
   "metadata": {
    "ExecuteTime": {
     "end_time": "2023-11-18T07:47:35.868331Z",
     "start_time": "2023-11-18T07:47:35.835879Z"
    }
   },
   "outputs": [
    {
     "ename": "InvalidIndexError",
     "evalue": "(slice(None, 3, None), slice(None, None, None))",
     "output_type": "error",
     "traceback": [
      "\u001b[1;31m---------------------------------------------------------------------------\u001b[0m",
      "\u001b[1;31mTypeError\u001b[0m                                 Traceback (most recent call last)",
      "\u001b[1;32m~\\anaconda3\\lib\\site-packages\\pandas\\core\\indexes\\base.py\u001b[0m in \u001b[0;36mget_loc\u001b[1;34m(self, key, method, tolerance)\u001b[0m\n\u001b[0;32m   3620\u001b[0m             \u001b[1;32mtry\u001b[0m\u001b[1;33m:\u001b[0m\u001b[1;33m\u001b[0m\u001b[1;33m\u001b[0m\u001b[0m\n\u001b[1;32m-> 3621\u001b[1;33m                 \u001b[1;32mreturn\u001b[0m \u001b[0mself\u001b[0m\u001b[1;33m.\u001b[0m\u001b[0m_engine\u001b[0m\u001b[1;33m.\u001b[0m\u001b[0mget_loc\u001b[0m\u001b[1;33m(\u001b[0m\u001b[0mcasted_key\u001b[0m\u001b[1;33m)\u001b[0m\u001b[1;33m\u001b[0m\u001b[1;33m\u001b[0m\u001b[0m\n\u001b[0m\u001b[0;32m   3622\u001b[0m             \u001b[1;32mexcept\u001b[0m \u001b[0mKeyError\u001b[0m \u001b[1;32mas\u001b[0m \u001b[0merr\u001b[0m\u001b[1;33m:\u001b[0m\u001b[1;33m\u001b[0m\u001b[1;33m\u001b[0m\u001b[0m\n",
      "\u001b[1;32m~\\anaconda3\\lib\\site-packages\\pandas\\_libs\\index.pyx\u001b[0m in \u001b[0;36mpandas._libs.index.IndexEngine.get_loc\u001b[1;34m()\u001b[0m\n",
      "\u001b[1;32m~\\anaconda3\\lib\\site-packages\\pandas\\_libs\\index.pyx\u001b[0m in \u001b[0;36mpandas._libs.index.IndexEngine.get_loc\u001b[1;34m()\u001b[0m\n",
      "\u001b[1;31mTypeError\u001b[0m: '(slice(None, 3, None), slice(None, None, None))' is an invalid key",
      "\nDuring handling of the above exception, another exception occurred:\n",
      "\u001b[1;31mInvalidIndexError\u001b[0m                         Traceback (most recent call last)",
      "\u001b[1;32m~\\AppData\\Local\\Temp/ipykernel_7848/1594334501.py\u001b[0m in \u001b[0;36m<module>\u001b[1;34m\u001b[0m\n\u001b[1;32m----> 1\u001b[1;33m \u001b[0mshortbees\u001b[0m\u001b[1;33m[\u001b[0m\u001b[1;33m:\u001b[0m\u001b[1;36m3\u001b[0m\u001b[1;33m,\u001b[0m \u001b[1;33m:\u001b[0m\u001b[1;33m]\u001b[0m\u001b[1;33m\u001b[0m\u001b[1;33m\u001b[0m\u001b[0m\n\u001b[0m",
      "\u001b[1;32m~\\anaconda3\\lib\\site-packages\\pandas\\core\\frame.py\u001b[0m in \u001b[0;36m__getitem__\u001b[1;34m(self, key)\u001b[0m\n\u001b[0;32m   3503\u001b[0m             \u001b[1;32mif\u001b[0m \u001b[0mself\u001b[0m\u001b[1;33m.\u001b[0m\u001b[0mcolumns\u001b[0m\u001b[1;33m.\u001b[0m\u001b[0mnlevels\u001b[0m \u001b[1;33m>\u001b[0m \u001b[1;36m1\u001b[0m\u001b[1;33m:\u001b[0m\u001b[1;33m\u001b[0m\u001b[1;33m\u001b[0m\u001b[0m\n\u001b[0;32m   3504\u001b[0m                 \u001b[1;32mreturn\u001b[0m \u001b[0mself\u001b[0m\u001b[1;33m.\u001b[0m\u001b[0m_getitem_multilevel\u001b[0m\u001b[1;33m(\u001b[0m\u001b[0mkey\u001b[0m\u001b[1;33m)\u001b[0m\u001b[1;33m\u001b[0m\u001b[1;33m\u001b[0m\u001b[0m\n\u001b[1;32m-> 3505\u001b[1;33m             \u001b[0mindexer\u001b[0m \u001b[1;33m=\u001b[0m \u001b[0mself\u001b[0m\u001b[1;33m.\u001b[0m\u001b[0mcolumns\u001b[0m\u001b[1;33m.\u001b[0m\u001b[0mget_loc\u001b[0m\u001b[1;33m(\u001b[0m\u001b[0mkey\u001b[0m\u001b[1;33m)\u001b[0m\u001b[1;33m\u001b[0m\u001b[1;33m\u001b[0m\u001b[0m\n\u001b[0m\u001b[0;32m   3506\u001b[0m             \u001b[1;32mif\u001b[0m \u001b[0mis_integer\u001b[0m\u001b[1;33m(\u001b[0m\u001b[0mindexer\u001b[0m\u001b[1;33m)\u001b[0m\u001b[1;33m:\u001b[0m\u001b[1;33m\u001b[0m\u001b[1;33m\u001b[0m\u001b[0m\n\u001b[0;32m   3507\u001b[0m                 \u001b[0mindexer\u001b[0m \u001b[1;33m=\u001b[0m \u001b[1;33m[\u001b[0m\u001b[0mindexer\u001b[0m\u001b[1;33m]\u001b[0m\u001b[1;33m\u001b[0m\u001b[1;33m\u001b[0m\u001b[0m\n",
      "\u001b[1;32m~\\anaconda3\\lib\\site-packages\\pandas\\core\\indexes\\base.py\u001b[0m in \u001b[0;36mget_loc\u001b[1;34m(self, key, method, tolerance)\u001b[0m\n\u001b[0;32m   3626\u001b[0m                 \u001b[1;31m#  InvalidIndexError. Otherwise we fall through and re-raise\u001b[0m\u001b[1;33m\u001b[0m\u001b[1;33m\u001b[0m\u001b[1;33m\u001b[0m\u001b[0m\n\u001b[0;32m   3627\u001b[0m                 \u001b[1;31m#  the TypeError.\u001b[0m\u001b[1;33m\u001b[0m\u001b[1;33m\u001b[0m\u001b[1;33m\u001b[0m\u001b[0m\n\u001b[1;32m-> 3628\u001b[1;33m                 \u001b[0mself\u001b[0m\u001b[1;33m.\u001b[0m\u001b[0m_check_indexing_error\u001b[0m\u001b[1;33m(\u001b[0m\u001b[0mkey\u001b[0m\u001b[1;33m)\u001b[0m\u001b[1;33m\u001b[0m\u001b[1;33m\u001b[0m\u001b[0m\n\u001b[0m\u001b[0;32m   3629\u001b[0m                 \u001b[1;32mraise\u001b[0m\u001b[1;33m\u001b[0m\u001b[1;33m\u001b[0m\u001b[0m\n\u001b[0;32m   3630\u001b[0m \u001b[1;33m\u001b[0m\u001b[0m\n",
      "\u001b[1;32m~\\anaconda3\\lib\\site-packages\\pandas\\core\\indexes\\base.py\u001b[0m in \u001b[0;36m_check_indexing_error\u001b[1;34m(self, key)\u001b[0m\n\u001b[0;32m   5635\u001b[0m             \u001b[1;31m# if key is not a scalar, directly raise an error (the code below\u001b[0m\u001b[1;33m\u001b[0m\u001b[1;33m\u001b[0m\u001b[1;33m\u001b[0m\u001b[0m\n\u001b[0;32m   5636\u001b[0m             \u001b[1;31m# would convert to numpy arrays and raise later any way) - GH29926\u001b[0m\u001b[1;33m\u001b[0m\u001b[1;33m\u001b[0m\u001b[1;33m\u001b[0m\u001b[0m\n\u001b[1;32m-> 5637\u001b[1;33m             \u001b[1;32mraise\u001b[0m \u001b[0mInvalidIndexError\u001b[0m\u001b[1;33m(\u001b[0m\u001b[0mkey\u001b[0m\u001b[1;33m)\u001b[0m\u001b[1;33m\u001b[0m\u001b[1;33m\u001b[0m\u001b[0m\n\u001b[0m\u001b[0;32m   5638\u001b[0m \u001b[1;33m\u001b[0m\u001b[0m\n\u001b[0;32m   5639\u001b[0m     \u001b[1;33m@\u001b[0m\u001b[0mcache_readonly\u001b[0m\u001b[1;33m\u001b[0m\u001b[1;33m\u001b[0m\u001b[0m\n",
      "\u001b[1;31mInvalidIndexError\u001b[0m: (slice(None, 3, None), slice(None, None, None))"
     ]
    }
   ],
   "source": [
    "shortbees[:3, :]"
   ]
  },
  {
   "cell_type": "code",
   "execution_count": 51,
   "id": "4d5e698d",
   "metadata": {
    "ExecuteTime": {
     "end_time": "2023-07-14T14:13:16.754608Z",
     "start_time": "2023-07-14T14:13:16.728029Z"
    }
   },
   "outputs": [],
   "source": [
    "coords = shortbees[['lat', 'lon']].drop_duplicates().reset_index()[['lat', 'lon']] #list of unique coordinates to create \"dictionary\""
   ]
  },
  {
   "cell_type": "markdown",
   "id": "8c7da853",
   "metadata": {},
   "source": [
    "# Functions"
   ]
  },
  {
   "cell_type": "code",
   "execution_count": 29,
   "id": "e6d3ca2b",
   "metadata": {
    "ExecuteTime": {
     "end_time": "2023-07-14T13:23:13.583121Z",
     "start_time": "2023-07-14T13:23:13.570156Z"
    },
    "code_folding": []
   },
   "outputs": [],
   "source": [
    "def coordPairs(df): # for all coordinates in the bees dataset, find all the nearest coordinates from the new datasets\n",
    "    indexs = [] #keep track of nearest coordinate\n",
    "    \n",
    "    #\"dictionary\"\n",
    "    for i, j in coords.iterrows(): \n",
    "        min_dist = 100000 #inital value\n",
    "        c1 = (j['lat'], j['lon']) \n",
    "        \n",
    "        for m, n in df[['lat', 'lon']].iterrows():\n",
    "            c2 = (n['lat'], n['lon'])\n",
    "            x = distance(c1, c2) #calculate distance\n",
    "            \n",
    "            if x == 0: #stop if theres an exact match\n",
    "                index = m\n",
    "                break\n",
    "                \n",
    "            if x <= min_dist: #find closest coords\n",
    "                min_dist = x\n",
    "                index = m\n",
    "                \n",
    "        indexs.append(index)\n",
    "    \n",
    "    # \"dictionary\"\n",
    "    close = df.iloc[indexs].reset_index()\n",
    "    pairs = pd.concat([coords, close[['index', 'lat', 'lon']]], axis = 1)\n",
    "\n",
    "    return pairs"
   ]
  },
  {
   "cell_type": "code",
   "execution_count": 30,
   "id": "76b023db",
   "metadata": {
    "ExecuteTime": {
     "end_time": "2023-07-14T13:23:14.144058Z",
     "start_time": "2023-07-14T13:23:14.123548Z"
    },
    "code_folding": []
   },
   "outputs": [],
   "source": [
    "def fill(df, col, coord_pairs, op = None): #fill the bees dataset with the extra data using the nearest coordinates\n",
    "\n",
    "    #filling data using dictionary\n",
    "    final_indexs = []\n",
    "    \n",
    "    for i, j in shortbees.iterrows():\n",
    "        lat = j['lat']\n",
    "        lon = j['lon']\n",
    "        \n",
    "        q = coord_pairs.query('lat == @lat and lon == @lon')['index'].iloc[0]\n",
    "\n",
    "        final_indexs.append(q)\n",
    "        \n",
    "    final_df = df.iloc[final_indexs].reset_index()\n",
    "    \n",
    "    if op == 'bin': #convert columns to binary indicators\n",
    "        final_df[col] = np.where(final_df[col] >= 1, 1, 0)\n",
    "        \n",
    "    newdf = pd.concat([shortbees, final_df[col]], axis = 1)\n",
    "    \n",
    "    return newdf"
   ]
  },
  {
   "cell_type": "code",
   "execution_count": 31,
   "id": "2bf58924",
   "metadata": {
    "ExecuteTime": {
     "end_time": "2023-07-14T13:23:14.704414Z",
     "start_time": "2023-07-14T13:23:14.694437Z"
    },
    "code_folding": []
   },
   "outputs": [],
   "source": [
    "def shrink(data, op = None): #round coordinates and group points with the same coordinates\n",
    "    \n",
    "    df = data.copy()\n",
    "    \n",
    "    df[['lat', 'lon']] = df[['lat', 'lon']].applymap(lambda x: round(x, 3 - int(np.floor(np.log10(abs(x))))))\n",
    "    \n",
    "    if op == 'av':\n",
    "        grouped = df.groupby(['lat', 'lon']).mean().reset_index()\n",
    "        \n",
    "    else:\n",
    "        grouped = df.groupby(['lat', 'lon']).sum().reset_index()\n",
    "    \n",
    "    return grouped"
   ]
  },
  {
   "cell_type": "code",
   "execution_count": 33,
   "id": "d23f935a",
   "metadata": {
    "ExecuteTime": {
     "end_time": "2023-07-14T13:23:18.142167Z",
     "start_time": "2023-07-14T13:23:18.131031Z"
    },
    "code_folding": []
   },
   "outputs": [],
   "source": [
    "def distance(z1, z2): #calculate euclidian distance\n",
    "    x = (z1[0] - z2[0])**2 + (z1[1] - z2[1])**2\n",
    "    return x"
   ]
  },
  {
   "cell_type": "markdown",
   "id": "d4485885",
   "metadata": {},
   "source": [
    "# Elevation"
   ]
  },
  {
   "cell_type": "code",
   "execution_count": 12,
   "id": "357c1bbd",
   "metadata": {
    "ExecuteTime": {
     "end_time": "2023-07-10T01:38:01.840154Z",
     "start_time": "2023-07-10T01:37:58.970824Z"
    },
    "code_folding": []
   },
   "outputs": [],
   "source": [
    "#postcode\n",
    "post = post[[1, 2]]\n",
    "post.columns = ['postcode', 'elevation']\n",
    "\n",
    "post.to_csv('postcodes.csv')\n",
    "\n",
    "shortened = post[::5] #use every 5th row as observation becasue the dataset is too large\n",
    "\n",
    "shortened.to_csv('short.csv', index=False)"
   ]
  },
  {
   "cell_type": "code",
   "execution_count": 52,
   "id": "8ab895ae",
   "metadata": {
    "ExecuteTime": {
     "end_time": "2023-07-14T14:13:28.420466Z",
     "start_time": "2023-07-14T14:13:28.134238Z"
    },
    "code_folding": []
   },
   "outputs": [],
   "source": [
    "#elevation\n",
    "elev = pd.read_csv('elev.csv') #shortened was inputted into a program that took postcodes and returned their coordinates and the output is elev\n",
    "\n",
    "elev = elev.drop(columns=['postcode'])\n",
    "\n",
    "elev = elev.rename(columns = {'Latitude':'lat', 'Longitude':'lon'})"
   ]
  },
  {
   "cell_type": "code",
   "execution_count": 53,
   "id": "bfc71af9",
   "metadata": {
    "ExecuteTime": {
     "end_time": "2023-07-14T14:13:37.595325Z",
     "start_time": "2023-07-14T14:13:35.526720Z"
    }
   },
   "outputs": [],
   "source": [
    "elev_shrink = shrink(elev, 'av')"
   ]
  },
  {
   "cell_type": "code",
   "execution_count": 162,
   "id": "188ac4ef",
   "metadata": {},
   "outputs": [],
   "source": [
    "elev_pairs = coordPairs(elev_shrink)"
   ]
  },
  {
   "cell_type": "code",
   "execution_count": 166,
   "id": "506b277e",
   "metadata": {},
   "outputs": [],
   "source": [
    "elev_pairs.to_csv('elev_pairs.csv')"
   ]
  },
  {
   "cell_type": "code",
   "execution_count": 54,
   "id": "cfa4fc19",
   "metadata": {
    "ExecuteTime": {
     "end_time": "2023-07-14T14:13:51.237125Z",
     "start_time": "2023-07-14T14:13:51.225117Z"
    }
   },
   "outputs": [],
   "source": [
    "elev_pairs = pd.read_csv('elev_pairs.csv')\n",
    "\n",
    "elev_pairs = elev_pairs.drop(columns = ['Unnamed: 0'])"
   ]
  },
  {
   "cell_type": "code",
   "execution_count": 55,
   "id": "4831af21",
   "metadata": {
    "ExecuteTime": {
     "end_time": "2023-07-14T14:14:10.350324Z",
     "start_time": "2023-07-14T14:13:52.626745Z"
    }
   },
   "outputs": [],
   "source": [
    "shortbees = fill(elev_shrink, ['elevation'], elev_pairs.iloc[:, 0:3]) #adding elevation data too the bee dataset"
   ]
  },
  {
   "cell_type": "markdown",
   "id": "317681ec",
   "metadata": {},
   "source": [
    "# Orchard"
   ]
  },
  {
   "cell_type": "code",
   "execution_count": 11,
   "id": "862ce4de",
   "metadata": {
    "ExecuteTime": {
     "end_time": "2023-08-29T09:57:49.890764Z",
     "start_time": "2023-08-29T09:57:48.306000Z"
    },
    "code_folding": []
   },
   "outputs": [],
   "source": [
    "#orch\n",
    "#cleaning inconsistent values in the dataset\n",
    "\n",
    "orch = orch.drop(columns=['OBJECTID', 'Prihabtxt', 'Habdefver', 'S5OSMM', 'NonTOcode', 'OS_Epoch2', 'Area_Ha', \n",
    "                          'Shape_Length', 'Shape__Area', 'Shape__Length', 'S1GroundSv', 'S1Status', 'S1Planting',\n",
    "                          'S2Status', 'S2Planting', 'S3Status', 'S3Planting', 'S4Status', 'S5OSMM', 'Stewardshp', \n",
    "                          'S2OrchQues'])\n",
    "\n",
    "orch['lon'], orch['lat'] = convert_lonlat(orch['Easting'], orch['Northing'])\n",
    "\n",
    "orch['S3Habid'] = orch['S3Habid'].replace(['Primary', 'Secondary', 'Tertiary', ' ', 'Other'], \n",
    "                                          [1, 2, 3, np.nan, np.nan])\n",
    "\n",
    "orch['S4Habid'] = orch['S4Habid'].replace(['Primary', 'Secondary', 'Tertiary', 'Other', ' '], \n",
    "                                          [1, 2, 3, np.nan, np.nan])\n",
    "\n",
    "orch['InterQual'] = orch['InterQual'].replace(['3 (Medium)', 'Medium (3)', '3'], 3)\n",
    "orch['InterQual'] = orch['InterQual'].replace(['1 (High)', 'High (1)', '1', '1 (high)'], 1)\n",
    "orch['InterQual'] = orch['InterQual'].replace(['2 (Medium)', '2'], 2)\n",
    "orch['InterQual'] = orch['InterQual'].replace(['4 (Medium)'], 4)\n",
    "orch['InterQual'] = orch['InterQual'].replace([' '], np.nan)\n",
    "\n",
    "orch['PriDet'] = orch['PriDet'].replace(['Definitely is Traditional Orchard priority habitat', \n",
    "                                        'Priority Traditional Orchard habitat may be present but evidence is either insufficient to determine presence confidently or is in the oldest allowable category',\n",
    "                                        'Probably Traditional Orchard priority habitat but some uncertainty due to age of data source'], [3,1,2])\n",
    "\n",
    "orch['HabCon'] = orch['HabCon'].replace(['Excellent', 'Good', 'Poor', ' '], [3, 2, 1, np.nan])\n",
    "\n",
    "orch['S1Habid'] = orch['S1Habid'].replace(['Primary', 'Secondary', 'SecondaryS', ' ', '25/09/2008'], \n",
    "                                          [1, 2, 2, np.nan, np.nan])\n",
    "\n",
    "orch['S2Habid'] = orch['S2Habid'].replace(['Primary', 'Secondary', '-', ' ', '26/02/2010', '06/09/2012'], \n",
    "                                          [1, 2, np.nan, np.nan, np.nan, np.nan])\n",
    "\n",
    "orch['S2Habid'] = orch['S2Habid'].replace(['Primary', 'Secondary', '-', ' ', '26/02/2010', '06/09/2012'], \n",
    "                                          [1, 2, np.nan, np.nan, np.nan, np.nan])\n",
    "\n",
    "orch['S3Boundary'] = orch['S3Boundary'].replace(['Primary', 'Secondary', ' ', '01/06/2009', '12/05/2006'], \n",
    "                                          [1, 2, np.nan, np.nan, np.nan])\n",
    "\n",
    "orch['S4Boundary'] = orch['S4Boundary'].replace(['Primary', 'Secondary', 'Tertiary', 'SecondaryS', 'Tertiart'], \n",
    "                                          [1, 2, 3, 2, 3])\n",
    "\n",
    "orch['S5Boundary'] = orch['S5Boundary'].replace(['Primary', 'Secondary', 'Tertiary', '18/09/2004', ' ', 'Boundary u'], \n",
    "                                          [1, 2, 3, np.nan, np.nan, np.nan])\n",
    "\n",
    "for i in ['Apple', 'Pear', 'Plum', 'Cherry', 'Damson', 'VetTrees10', \n",
    "          'Vet_11_30', 'Vet_31_100', 'Vet_100', 'YFT10', 'YFT_11_30', 'YFT_31_100', \n",
    "          'YFT_100', 'Grazed', 'Mown', \n",
    "          'Unmanaged', 'Sheep', 'Cattle', 'Equine', 'Pigs', 'Fowl', 'GrazingDmg', \n",
    "          'BranchHols', 'Loose_bark', 'Cavities', 'DW_Canopy', 'DW_Floor', 'WaterPools', \n",
    "          'Crevices', 'Sap_runs', 'FungalFrts', 'AerialRts', 'Hedgerows', 'Ponds', 'VetTrees', 'RoughAreas']:\n",
    "    orch[i] = orch[i].replace(['1', 'y', 'Y'], 1)\n",
    "    orch[i] = orch[i].replace(['?', '3', '6', '2', 'S', 's', 'D'], np.nan)\n",
    "    orch[i] = orch[i].replace([' ', 'N', '0'], 0)\n",
    "\n",
    "#features kept and also dropped any rows that have any missing values\n",
    "orch = orch[['Apple', 'Pear', 'Plum', 'Cherry', 'Damson', 'VetTrees10', \n",
    "             'Vet_11_30', 'Vet_31_100', 'Vet_100', 'YFT10', 'YFT_11_30', \n",
    "             'YFT_31_100', 'YFT_100', 'Grazed', 'Mown', 'Unmanaged', \n",
    "             'Sheep', 'Cattle', 'Equine', 'Pigs', 'Fowl', 'GrazingDmg', \n",
    "             'BranchHols', 'Loose_bark', 'Cavities', 'DW_Canopy', 'DW_Floor', \n",
    "             'WaterPools', 'Crevices', 'Sap_runs', 'FungalFrts', 'AerialRts', \n",
    "             'Hedgerows', 'Ponds', 'VetTrees', 'RoughAreas', 'lat', 'lon']].dropna()"
   ]
  },
  {
   "cell_type": "code",
   "execution_count": 39,
   "id": "2fa10853",
   "metadata": {
    "ExecuteTime": {
     "end_time": "2023-07-14T13:24:22.280904Z",
     "start_time": "2023-07-14T13:24:22.008149Z"
    }
   },
   "outputs": [],
   "source": [
    "orch_shrink = shrink(orch, 'av')"
   ]
  },
  {
   "cell_type": "code",
   "execution_count": 42,
   "id": "2448c459",
   "metadata": {
    "ExecuteTime": {
     "end_time": "2023-07-14T13:52:42.544788Z",
     "start_time": "2023-07-14T13:25:47.663779Z"
    }
   },
   "outputs": [],
   "source": [
    "orch_pairs = coordPairs(orch_shrink)"
   ]
  },
  {
   "cell_type": "code",
   "execution_count": 43,
   "id": "9d3da606",
   "metadata": {
    "ExecuteTime": {
     "end_time": "2023-07-14T13:52:42.620728Z",
     "start_time": "2023-07-14T13:52:42.555922Z"
    }
   },
   "outputs": [],
   "source": [
    "orch_pairs.to_csv('orch_pairs_av.csv')"
   ]
  },
  {
   "cell_type": "code",
   "execution_count": 47,
   "id": "ec62f4b0",
   "metadata": {
    "ExecuteTime": {
     "end_time": "2023-07-14T14:08:55.089256Z",
     "start_time": "2023-07-14T14:08:55.071300Z"
    }
   },
   "outputs": [],
   "source": [
    "orch_pairs = pd.read_csv('orch_pairs.csv')\n",
    "\n",
    "orch_pairs = orch_pairs.drop(columns = ['Unnamed: 0'])"
   ]
  },
  {
   "cell_type": "code",
   "execution_count": 57,
   "id": "9a9b0889",
   "metadata": {
    "ExecuteTime": {
     "end_time": "2023-07-14T14:15:00.806808Z",
     "start_time": "2023-07-14T14:14:42.077292Z"
    }
   },
   "outputs": [],
   "source": [
    "shortbees = fill(orch_shrink, orch_shrink.columns[2:], orch_pairs.iloc[:, 0:3]) #adding the new data to the bee dataset"
   ]
  },
  {
   "cell_type": "code",
   "execution_count": 58,
   "id": "f8037953",
   "metadata": {
    "ExecuteTime": {
     "end_time": "2023-07-14T14:15:01.184590Z",
     "start_time": "2023-07-14T14:15:00.809199Z"
    }
   },
   "outputs": [],
   "source": [
    "shortbees.to_csv('final_bees_av.csv')"
   ]
  }
 ],
 "metadata": {
  "kernelspec": {
   "display_name": "Python 3",
   "language": "python",
   "name": "python3"
  },
  "language_info": {
   "codemirror_mode": {
    "name": "ipython",
    "version": 3
   },
   "file_extension": ".py",
   "mimetype": "text/x-python",
   "name": "python",
   "nbconvert_exporter": "python",
   "pygments_lexer": "ipython3",
   "version": "3.8.5"
  }
 },
 "nbformat": 4,
 "nbformat_minor": 5
}
