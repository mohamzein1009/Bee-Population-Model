{
 "cells": [
  {
   "cell_type": "code",
   "execution_count": 9,
   "id": "bb86a226",
   "metadata": {
    "ExecuteTime": {
     "end_time": "2023-08-29T08:53:39.188353Z",
     "start_time": "2023-08-29T08:53:39.183365Z"
    }
   },
   "outputs": [],
   "source": [
    "import pandas as pd\n",
    "import numpy as np\n",
    "import itertools"
   ]
  },
  {
   "cell_type": "code",
   "execution_count": 10,
   "id": "7c764cf2",
   "metadata": {
    "ExecuteTime": {
     "end_time": "2023-08-29T08:53:59.200346Z",
     "start_time": "2023-08-29T08:53:39.548145Z"
    }
   },
   "outputs": [],
   "source": [
    "bees = pd.read_excel('Extra Data/Bees.xlsx') #initial dataset\n",
    "unique = pd.read_excel('Extra Data/ViceCounty.xlsx') #unique combinations of counties and species used to group points by counties from PowerBI"
   ]
  },
  {
   "cell_type": "code",
   "execution_count": 11,
   "id": "5c48d4bd",
   "metadata": {
    "ExecuteTime": {
     "end_time": "2023-08-29T08:53:59.406690Z",
     "start_time": "2023-08-29T08:53:59.202175Z"
    }
   },
   "outputs": [
    {
     "name": "stdout",
     "output_type": "stream",
     "text": [
      "<class 'pandas.core.frame.DataFrame'>\n",
      "RangeIndex: 103871 entries, 0 to 103870\n",
      "Data columns (total 24 columns):\n",
      " #   Column                Non-Null Count   Dtype  \n",
      "---  ------                --------------   -----  \n",
      " 0   ViceCounty            103871 non-null  object \n",
      " 1   Transect lat          103871 non-null  float64\n",
      " 2   Transect long         103871 non-null  float64\n",
      " 3   H1                    88052 non-null   object \n",
      " 4   H2                    52900 non-null   object \n",
      " 5   H3                    27874 non-null   object \n",
      " 6   H4                    12301 non-null   object \n",
      " 7   habitat_description   55238 non-null   object \n",
      " 8   L1                    83973 non-null   object \n",
      " 9   L2                    29874 non-null   object \n",
      " 10  sunshine              98974 non-null   object \n",
      " 11  wind_speed            98686 non-null   object \n",
      " 12  temperature           95026 non-null   float64\n",
      " 13  species               103871 non-null  object \n",
      " 14  queens                103871 non-null  int64  \n",
      " 15  workers               103871 non-null  int64  \n",
      " 16  males                 103871 non-null  int64  \n",
      " 17  unknown               103871 non-null  int64  \n",
      " 18  Comment               7074 non-null    object \n",
      " 19  flower_visited        48600 non-null   object \n",
      " 20  land_use_description  41138 non-null   object \n",
      " 21  Total                 103871 non-null  int64  \n",
      " 22  CountySpecies         103871 non-null  object \n",
      " 23  Agg Present           103871 non-null  int64  \n",
      "dtypes: float64(3), int64(6), object(15)\n",
      "memory usage: 19.0+ MB\n"
     ]
    }
   ],
   "source": [
    "bees.info()"
   ]
  },
  {
   "cell_type": "code",
   "execution_count": 12,
   "id": "d4de560f",
   "metadata": {
    "ExecuteTime": {
     "end_time": "2023-08-29T08:54:33.122279Z",
     "start_time": "2023-08-29T08:53:59.408686Z"
    }
   },
   "outputs": [],
   "source": [
    "unique['Agg Total'] = 0 #initialising the total columns\n",
    "\n",
    "#grouping point with the same county and species\n",
    "for i in range(len(unique['CountySpecies'])): \n",
    "    comb = unique['CountySpecies'][i]\n",
    "    q = np.sum(bees.query('CountySpecies == @comb')['Total'])\n",
    "    unique.iloc[i, 3] = q"
   ]
  },
  {
   "cell_type": "code",
   "execution_count": 13,
   "id": "c603468c",
   "metadata": {
    "ExecuteTime": {
     "end_time": "2023-08-29T08:54:33.184617Z",
     "start_time": "2023-08-29T08:54:33.124271Z"
    }
   },
   "outputs": [],
   "source": [
    "unique['Agg Present'] = np.where(unique['Agg Total'] >= 1, 1, 0) #turn total column into binary indicator\n",
    "\n",
    "unique.to_csv('uniquepresent.csv',index = False)"
   ]
  },
  {
   "cell_type": "code",
   "execution_count": 14,
   "id": "f4955b6d",
   "metadata": {
    "ExecuteTime": {
     "end_time": "2023-08-29T08:54:33.861443Z",
     "start_time": "2023-08-29T08:54:33.186612Z"
    }
   },
   "outputs": [],
   "source": [
    "coords = bees[['Transect lat', 'Transect long', 'species', 'Total']]\n",
    "\n",
    "coords = coords.rename(columns = {'Transect lat':'Lat', 'Transect long':'Long', 'species': 'Species'})\n",
    "\n",
    "# rounding the coordinates to 4 significant figues\n",
    "coords[['Lat', 'Long']] = coords[['Lat', 'Long']].applymap(lambda x: round(x, 3 - int(np.floor(np.log10(abs(x))))))"
   ]
  },
  {
   "cell_type": "code",
   "execution_count": 15,
   "id": "fbd5ab73",
   "metadata": {
    "ExecuteTime": {
     "end_time": "2023-08-29T08:54:41.281146Z",
     "start_time": "2023-08-29T08:54:37.220046Z"
    }
   },
   "outputs": [],
   "source": [
    "#finding all unique sets of coordinates\n",
    "combinations = set()\n",
    "for _, row in coords.iterrows():\n",
    "    vals = (row['Lat'], row['Long'])\n",
    "    if vals not in combinations:\n",
    "        combinations.add(vals)"
   ]
  },
  {
   "cell_type": "code",
   "execution_count": 17,
   "id": "71d09635",
   "metadata": {
    "ExecuteTime": {
     "end_time": "2023-08-29T08:59:24.352489Z",
     "start_time": "2023-08-29T08:59:24.289240Z"
    }
   },
   "outputs": [],
   "source": [
    "uniquespecies = unique['Species'].unique()\n",
    "\n",
    "# grouping points by coordinates and species and also using a binary indicator target variable\n",
    "summedcoords = coords.groupby(['Lat', 'Long', 'Species']).sum()\n",
    "\n",
    "summedcoords = summedcoords.reset_index()\n",
    "\n",
    "summedcoords['Present'] = np.where(summedcoords['Total'] >= 1, 1, 0)"
   ]
  },
  {
   "cell_type": "code",
   "execution_count": 18,
   "id": "79878b90",
   "metadata": {
    "ExecuteTime": {
     "end_time": "2023-08-29T09:05:36.633931Z",
     "start_time": "2023-08-29T08:59:42.743738Z"
    }
   },
   "outputs": [],
   "source": [
    "finaldf = summedcoords\n",
    "\n",
    "# create a row for all combinations of species and coordinates to include \n",
    "# the missing negative cases and grouping nearby points\n",
    "for i, j in itertools.product(combinations, uniquespecies):\n",
    "    lat = i[0]\n",
    "    long = i[1]\n",
    "    q = summedcoords.query('Lat == @lat and Long == @long and Species == @j')\n",
    "    if len(q) == 0:\n",
    "        newrow = pd.DataFrame({'Lat': [lat], 'Long': [long], 'Species': [j], 'Total': [0], 'Present': [0]})\n",
    "        finaldf = pd.concat([finaldf, newrow], ignore_index=True)"
   ]
  },
  {
   "cell_type": "code",
   "execution_count": 25,
   "id": "2440a50b",
   "metadata": {},
   "outputs": [],
   "source": [
    "finaldf.to_csv('coords_species.csv',index = False)"
   ]
  }
 ],
 "metadata": {
  "kernelspec": {
   "display_name": "Python 3",
   "language": "python",
   "name": "python3"
  },
  "language_info": {
   "codemirror_mode": {
    "name": "ipython",
    "version": 3
   },
   "file_extension": ".py",
   "mimetype": "text/x-python",
   "name": "python",
   "nbconvert_exporter": "python",
   "pygments_lexer": "ipython3",
   "version": "3.8.5"
  }
 },
 "nbformat": 4,
 "nbformat_minor": 5
}
